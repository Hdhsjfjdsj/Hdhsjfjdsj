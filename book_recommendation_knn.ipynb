{
  "cells": [
    {
      "cell_type": "markdown",
      "metadata": {
        "id": "view-in-github",
        "colab_type": "text"
      },
      "source": [
        "<a href=\"https://colab.research.google.com/github/Hdhsjfjdsj/Hdhsjfjdsj/blob/main/book_recommendation_knn.ipynb\" target=\"_parent\"><img src=\"https://colab.research.google.com/assets/colab-badge.svg\" alt=\"Open In Colab\"/></a>"
      ]
    },
    {
      "cell_type": "code",
      "execution_count": null,
      "metadata": {
        "id": "Y1onB6kUvo4Z"
      },
      "outputs": [],
      "source": [
        "# Import necessary libraries\n",
        "import numpy as np\n",
        "import pandas as pd\n",
        "from scipy.sparse import csr_matrix\n",
        "from sklearn.neighbors import NearestNeighbors\n",
        "import matplotlib.pyplot as plt\n"
      ]
    },
    {
      "cell_type": "code",
      "execution_count": null,
      "metadata": {
        "id": "iAQGqqO_vo4d",
        "colab": {
          "base_uri": "https://localhost:8080/"
        },
        "outputId": "b5a7970f-7a11-49f3-b00d-3ed2d65eefcd"
      },
      "outputs": [
        {
          "metadata": {
            "tags": null
          },
          "name": "stdout",
          "output_type": "stream",
          "text": [
            "--2024-08-22 15:26:17--  https://cdn.freecodecamp.org/project-data/books/book-crossings.zip\n",
            "Resolving cdn.freecodecamp.org (cdn.freecodecamp.org)... 172.67.70.149, 104.26.3.33, 104.26.2.33, ...\n",
            "Connecting to cdn.freecodecamp.org (cdn.freecodecamp.org)|172.67.70.149|:443... connected.\n",
            "HTTP request sent, awaiting response... 200 OK\n",
            "Length: 26085508 (25M) [application/zip]\n",
            "Saving to: ‘book-crossings.zip.1’\n",
            "\n",
            "book-crossings.zip. 100%[===================>]  24.88M   122MB/s    in 0.2s    \n",
            "\n",
            "2024-08-22 15:26:17 (122 MB/s) - ‘book-crossings.zip.1’ saved [26085508/26085508]\n",
            "\n",
            "Archive:  book-crossings.zip\n",
            "replace BX-Book-Ratings.csv? [y]es, [n]o, [A]ll, [N]one, [r]ename: "
          ]
        }
      ],
      "source": [
        "# Download and extract the dataset\n",
        "!wget https://cdn.freecodecamp.org/project-data/books/book-crossings.zip\n",
        "!unzip book-crossings.zip\n",
        "# Define filenames for the data\n",
        "books_filename = 'BX-Books.csv'\n",
        "ratings_filename = 'BX-Book-Ratings.csv'"
      ]
    },
    {
      "cell_type": "code",
      "execution_count": null,
      "metadata": {
        "id": "NClILWOiEd6Q"
      },
      "outputs": [],
      "source": [
        "# Load the books dataset\n",
        "df_books = pd.read_csv(\n",
        "    books_filename,\n",
        "    encoding=\"ISO-8859-1\",\n",
        "    sep=\";\",\n",
        "    header=0,\n",
        "    names=['isbn', 'title', 'author'],\n",
        "    usecols=['isbn', 'title', 'author'],\n",
        "    dtype={'isbn': 'str', 'title': 'str', 'author': 'str'}\n",
        ")\n",
        "\n",
        "# Load the ratings dataset\n",
        "df_ratings = pd.read_csv(\n",
        "    ratings_filename,\n",
        "    encoding=\"ISO-8859-1\",\n",
        "    sep=\";\",\n",
        "    header=0,\n",
        "    names=['user', 'isbn', 'rating'],\n",
        "    usecols=['user', 'isbn', 'rating'],\n",
        "    dtype={'user': 'int32', 'isbn': 'str', 'rating': 'float32'}\n",
        ")"
      ]
    },
    {
      "cell_type": "code",
      "execution_count": null,
      "metadata": {
        "id": "xAcXjkCFCh0A"
      },
      "outputs": [],
      "source": [
        "# Merge the books and ratings data\n",
        "combined_df = pd.merge(df_ratings, df_books, on='isbn')\n",
        "\n",
        "# Filter users with less than 200 ratings and books with less than 100 ratings\n",
        "user_counts = combined_df['user'].value_counts()\n",
        "combined_df = combined_df[combined_df['user'].isin(user_counts[user_counts >= 200].index)]\n",
        "\n",
        "book_counts = combined_df['isbn'].value_counts()\n",
        "combined_df = combined_df[combined_df['isbn'].isin(book_counts[book_counts >= 100].index)]\n",
        "\n",
        "# Create a pivot table of ratings\n",
        "pivot_df = combined_df.pivot_table(index='title', columns='user', values='rating').fillna(0)\n",
        "\n",
        "# Convert the pivot table to a sparse matrix\n",
        "rating_matrix = csr_matrix(pivot_df.values)\n",
        "\n"
      ]
    },
    {
      "cell_type": "code",
      "source": [
        "# Initialize the NearestNeighbors model\n",
        "model_knn = NearestNeighbors(metric='cosine', algorithm='brute')\n",
        "model_knn.fit(rating_matrix)\n",
        "\n"
      ],
      "metadata": {
        "id": "dpGeOgoMkkpQ"
      },
      "execution_count": null,
      "outputs": []
    },
    {
      "cell_type": "code",
      "execution_count": null,
      "metadata": {
        "id": "f5ZUd-L1SQz7"
      },
      "outputs": [],
      "source": [
        "def get_recommends(book=\"\"):\n",
        "    \"\"\"\n",
        "    Get book recommendations based on a given book title.\n",
        "\n",
        "    Parameters:\n",
        "    book (str): The title of the book for which recommendations are to be made.\n",
        "\n",
        "    Returns:\n",
        "    list: A list containing the input book title and a list of recommended books with distances.\n",
        "    \"\"\"\n",
        "    # Find the index of the book title\n",
        "    idx = pivot_df.index.get_loc(book)\n",
        "\n",
        "    # Use the KNN model to find nearest neighbors\n",
        "    distances, indices = model_knn.kneighbors(rating_matrix[idx], n_neighbors=6)\n",
        "\n",
        "    # Initialize list to store the recommendations\n",
        "    recommendations = []\n",
        "\n",
        "    # The first element is the input book\n",
        "    recommendations.append(book)\n",
        "\n",
        "    # The second element is a list of recommended books with distances\n",
        "    recommended_books = []\n",
        "    for i in range(1, len(distances.flatten())):\n",
        "        recommended_books.append([pivot_df.index[indices.flatten()[i]], distances.flatten()[i]])\n",
        "\n",
        "    recommendations.append(recommended_books)\n",
        "\n",
        "    return recommendations\n",
        "\n"
      ]
    },
    {
      "cell_type": "code",
      "execution_count": null,
      "metadata": {
        "id": "jd2SLCh8oxMh"
      },
      "outputs": [],
      "source": [
        "# Input the book title from the user\n",
        "book_title = input(\"Enter a book title for recommendations: \")\n",
        "\n",
        "# Get and display the recommendations\n",
        "recommendations = get_recommends(book_title)\n",
        "\n",
        "# Display the recommendations\n",
        "print(f\"\\nRecommendations for '{recommendations[0]}':\")\n",
        "for rec in recommendations[1]:\n",
        "    print(f\"Book: {rec[0]}, Distance: {rec[1]:.4f}\")\n"
      ]
    }
  ],
  "metadata": {
    "colab": {
      "provenance": [],
      "include_colab_link": true
    },
    "kernelspec": {
      "display_name": "Python 3",
      "language": "python",
      "name": "python3"
    },
    "language_info": {
      "codemirror_mode": {
        "name": "ipython",
        "version": 3
      },
      "file_extension": ".py",
      "mimetype": "text/x-python",
      "name": "python",
      "nbconvert_exporter": "python",
      "pygments_lexer": "ipython3",
      "version": "3.6.5"
    }
  },
  "nbformat": 4,
  "nbformat_minor": 0
}